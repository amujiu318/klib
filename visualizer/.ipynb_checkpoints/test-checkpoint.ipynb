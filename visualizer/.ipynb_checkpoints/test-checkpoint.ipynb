{
 "cells": [
  {
   "cell_type": "code",
   "execution_count": 8,
   "metadata": {},
   "outputs": [],
   "source": [
    "import os\n",
    "import math\n",
    "import json\n",
    "import numpy as np\n",
    "from kvis import Kvis\n",
    "%matplotlib widget\n",
    "import matplotlib.pyplot as plt"
   ]
  },
  {
   "cell_type": "markdown",
   "metadata": {},
   "source": [
    "### Raw data\n",
    "\n",
    "File structure\n",
    "```\n",
    "./data\n",
    "    |-a_0_b_no\n",
    "        |-data.json\n",
    "    |-a_1_b_no\n",
    "        |-data.json\n",
    "    |-a_0_b_yes\n",
    "        |-data.json\n",
    "    |-a_1_b_yes\n",
    "        |-data.json\n",
    "```"
   ]
  },
  {
   "cell_type": "code",
   "execution_count": 9,
   "metadata": {},
   "outputs": [
    {
     "name": "stdout",
     "output_type": "stream",
     "text": [
      "{'scalar': 10, 'array': [1, 2, 3, 4, 5]}\n"
     ]
    }
   ],
   "source": [
    "with open('./data/a_0_b_no/data.json', 'r') as f:\n",
    "    dat = json.load(f)\n",
    "print(dat)"
   ]
  },
  {
   "cell_type": "markdown",
   "metadata": {},
   "source": [
    "### Comparing scalar results"
   ]
  },
  {
   "cell_type": "code",
   "execution_count": 10,
   "metadata": {},
   "outputs": [],
   "source": [
    "class MyVis1(Kvis):\n",
    "    \n",
    "    def get_data(self, fn):\n",
    "        exp_path = os.path.join(self._exp_home, fn)\n",
    "        with open(os.path.join(exp_path, 'data.json'), 'r') as f:\n",
    "            load_data = json.load(f)\n",
    "        output = load_data['scalar']\n",
    "        if math.isnan(output):\n",
    "            print(f'Warning: unable to fetch data from {exp_path}.')\n",
    "            return None\n",
    "        return output\n",
    "    \n",
    "    def plot(self, labels, mus, stds):\n",
    "        self.plot_bar(labels, mus, stds, 'x label', 'y label', 'title')"
   ]
  },
  {
   "cell_type": "code",
   "execution_count": 11,
   "metadata": {},
   "outputs": [
    {
     "name": "stdout",
     "output_type": "stream",
     "text": [
      "4 experiments loaded.\n",
      "a :\n",
      "   0 1\n",
      "b :\n",
      "   no yes\n"
     ]
    },
    {
     "data": {
      "application/vnd.jupyter.widget-view+json": {
       "model_id": "adf3d5e22a594853b230ba237acd7979",
       "version_major": 2,
       "version_minor": 0
      },
      "text/plain": [
       "Canvas(toolbar=Toolbar(toolitems=[('Home', 'Reset original view', 'home', 'home'), ('Back', 'Back to previous …"
      ]
     },
     "metadata": {},
     "output_type": "display_data"
    },
    {
     "data": {
      "application/vnd.jupyter.widget-view+json": {
       "model_id": "507dccd03eaf416eb539bc49178f33bb",
       "version_major": 2,
       "version_minor": 0
      },
      "text/plain": [
       "interactive(children=(ToggleButtons(description='a', layout=Layout(width='auto'), options=('Avg', 'All', '0', …"
      ]
     },
     "metadata": {},
     "output_type": "display_data"
    }
   ],
   "source": [
    "vis1 = MyVis1('./data')\n",
    "vis1.run_jupyter()"
   ]
  },
  {
   "cell_type": "markdown",
   "metadata": {},
   "source": [
    "### Comparing array (curve) results"
   ]
  },
  {
   "cell_type": "code",
   "execution_count": 12,
   "metadata": {},
   "outputs": [],
   "source": [
    "class MyVis2(Kvis):\n",
    "    \n",
    "    def get_data(self, fn):\n",
    "        exp_path = os.path.join(self._exp_home, fn)\n",
    "        with open(os.path.join(exp_path, 'data.json'), 'r') as f:\n",
    "            load_data = json.load(f)\n",
    "        output = load_data['array']\n",
    "        for o in output:\n",
    "            if math.isnan(o):\n",
    "                print(f'Warning: unable to fetch data from {exp_path}.')\n",
    "                return None\n",
    "        return output\n",
    "    \n",
    "    def plot(self, labels, mus, stds):\n",
    "        self.plot_curve(labels, mus, stds, 'x', 'y', 'my title')"
   ]
  },
  {
   "cell_type": "code",
   "execution_count": 13,
   "metadata": {},
   "outputs": [
    {
     "name": "stdout",
     "output_type": "stream",
     "text": [
      "4 experiments loaded.\n",
      "a :\n",
      "   0 1\n",
      "b :\n",
      "   no yes\n"
     ]
    },
    {
     "data": {
      "application/vnd.jupyter.widget-view+json": {
       "model_id": "413c9e1bacb4407c95f0bea30ba48583",
       "version_major": 2,
       "version_minor": 0
      },
      "text/plain": [
       "Canvas(toolbar=Toolbar(toolitems=[('Home', 'Reset original view', 'home', 'home'), ('Back', 'Back to previous …"
      ]
     },
     "metadata": {},
     "output_type": "display_data"
    },
    {
     "data": {
      "application/vnd.jupyter.widget-view+json": {
       "model_id": "3f15b8020bad4ccb81a6172d041e3bed",
       "version_major": 2,
       "version_minor": 0
      },
      "text/plain": [
       "interactive(children=(ToggleButtons(description='a', layout=Layout(width='auto'), options=('Avg', 'All', '0', …"
      ]
     },
     "metadata": {},
     "output_type": "display_data"
    }
   ],
   "source": [
    "vis2 = MyVis2('./data')\n",
    "vis2.run_jupyter()"
   ]
  },
  {
   "cell_type": "markdown",
   "metadata": {},
   "source": [
    "### Simple template for creating interactive visualization inside jupyter notebook"
   ]
  },
  {
   "cell_type": "code",
   "execution_count": 14,
   "metadata": {},
   "outputs": [
    {
     "data": {
      "application/vnd.jupyter.widget-view+json": {
       "model_id": "b835fd3f6530435f8d14f55e02d0f8cb",
       "version_major": 2,
       "version_minor": 0
      },
      "text/plain": [
       "interactive(children=(ToggleButtons(description='attr1', layout=Layout(width='auto'), options=(1, 2, 3), value…"
      ]
     },
     "metadata": {},
     "output_type": "display_data"
    }
   ],
   "source": [
    "import ipywidgets as widgets\n",
    "\n",
    "val_dict = {\n",
    "    'attr1': [1, 2, 3],\n",
    "    'attr2': ['a', 'b', 'c']\n",
    "}\n",
    "\n",
    "fields = {}\n",
    "for attr, vals in val_dict.items():\n",
    "    widget_args = {\n",
    "        'options': vals,\n",
    "        'description': attr,\n",
    "        'disabled': False,\n",
    "        'layout': {'width': 'auto'},\n",
    "    }\n",
    "    fields[attr] = widgets.ToggleButtons(**widget_args)\n",
    "\n",
    "@widgets.interact(**fields)\n",
    "def update(**param_dict):\n",
    "    print(param_dict)"
   ]
  }
 ],
 "metadata": {
  "kernelspec": {
   "display_name": "Python 3",
   "language": "python",
   "name": "python3"
  },
  "language_info": {
   "codemirror_mode": {
    "name": "ipython",
    "version": 3
   },
   "file_extension": ".py",
   "mimetype": "text/x-python",
   "name": "python",
   "nbconvert_exporter": "python",
   "pygments_lexer": "ipython3",
   "version": "3.7.4"
  }
 },
 "nbformat": 4,
 "nbformat_minor": 2
}
